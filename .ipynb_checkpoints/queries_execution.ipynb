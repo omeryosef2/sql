{
 "cells": [
  {
   "cell_type": "code",
   "execution_count": 2,
   "metadata": {
    "collapsed": true,
    "pycharm": {
     "name": "#%%\n"
    }
   },
   "outputs": [],
   "source": [
    "import pandas as pd\n",
    "import queries_db_script as que\n",
    "import mysql\n",
    "pd.set_option('display.max_columns', None)"
   ]
  },
  {
   "cell_type": "markdown",
   "source": [
    "## These are tests of the queries that we created"
   ],
   "metadata": {
    "collapsed": false,
    "pycharm": {
     "name": "#%% md\n"
    }
   }
  },
  {
   "cell_type": "markdown",
   "source": [
    "## In queries that ask for genre, you can use one of the following as you wish:\n",
    "Drama, Documentary, Comedy, Sci-Fi, Action, Short, Fantasy, Biography, Crime, War, Family, Animation"
   ],
   "metadata": {
    "collapsed": false,
    "pycharm": {
     "name": "#%% md\n"
    }
   }
  },
  {
   "cell_type": "markdown",
   "source": [
    "## In queries that ask for actor names, it doesn't matter if it's upper or lower case"
   ],
   "metadata": {
    "collapsed": false,
    "pycharm": {
     "name": "#%% md\n"
    }
   }
  },
  {
   "cell_type": "markdown",
   "source": [
    "## Query 1"
   ],
   "metadata": {
    "collapsed": false,
    "pycharm": {
     "name": "#%% md\n"
    }
   }
  },
  {
   "cell_type": "code",
   "execution_count": 3,
   "outputs": [
    {
     "data": {
      "text/plain": "       MovieID                    Genre                        Title\n0          230             Drama, Short                   Cinderella\n1          488    Short, Drama, Fantasy   The Land Beyond the Sunset\n2          498     Short, Drama, Family             Rescued by Rover\n3          574  Biography, Crime, Drama  The Story of the Kelly Gang\n4          832             Short, Drama            A Corner in Wheat\n...        ...                      ...                          ...\n21222  4991384                    Drama                Interrogation\n21223  4991590                    Drama                 Interruption\n21224  4991660                    Drama                The Black Hen\n21225  5005684            Drama, Family            The New Classmate\n21226  5013980    Biography, Drama, War       Die Turnschuh-Giganten\n\n[21227 rows x 3 columns]",
      "text/html": "<div>\n<style scoped>\n    .dataframe tbody tr th:only-of-type {\n        vertical-align: middle;\n    }\n\n    .dataframe tbody tr th {\n        vertical-align: top;\n    }\n\n    .dataframe thead th {\n        text-align: right;\n    }\n</style>\n<table border=\"1\" class=\"dataframe\">\n  <thead>\n    <tr style=\"text-align: right;\">\n      <th></th>\n      <th>MovieID</th>\n      <th>Genre</th>\n      <th>Title</th>\n    </tr>\n  </thead>\n  <tbody>\n    <tr>\n      <th>0</th>\n      <td>230</td>\n      <td>Drama, Short</td>\n      <td>Cinderella</td>\n    </tr>\n    <tr>\n      <th>1</th>\n      <td>488</td>\n      <td>Short, Drama, Fantasy</td>\n      <td>The Land Beyond the Sunset</td>\n    </tr>\n    <tr>\n      <th>2</th>\n      <td>498</td>\n      <td>Short, Drama, Family</td>\n      <td>Rescued by Rover</td>\n    </tr>\n    <tr>\n      <th>3</th>\n      <td>574</td>\n      <td>Biography, Crime, Drama</td>\n      <td>The Story of the Kelly Gang</td>\n    </tr>\n    <tr>\n      <th>4</th>\n      <td>832</td>\n      <td>Short, Drama</td>\n      <td>A Corner in Wheat</td>\n    </tr>\n    <tr>\n      <th>...</th>\n      <td>...</td>\n      <td>...</td>\n      <td>...</td>\n    </tr>\n    <tr>\n      <th>21222</th>\n      <td>4991384</td>\n      <td>Drama</td>\n      <td>Interrogation</td>\n    </tr>\n    <tr>\n      <th>21223</th>\n      <td>4991590</td>\n      <td>Drama</td>\n      <td>Interruption</td>\n    </tr>\n    <tr>\n      <th>21224</th>\n      <td>4991660</td>\n      <td>Drama</td>\n      <td>The Black Hen</td>\n    </tr>\n    <tr>\n      <th>21225</th>\n      <td>5005684</td>\n      <td>Drama, Family</td>\n      <td>The New Classmate</td>\n    </tr>\n    <tr>\n      <th>21226</th>\n      <td>5013980</td>\n      <td>Biography, Drama, War</td>\n      <td>Die Turnschuh-Giganten</td>\n    </tr>\n  </tbody>\n</table>\n<p>21227 rows × 3 columns</p>\n</div>"
     },
     "execution_count": 3,
     "metadata": {},
     "output_type": "execute_result"
    }
   ],
   "source": [
    "que.query_1(\"Drama\")"
   ],
   "metadata": {
    "collapsed": false,
    "pycharm": {
     "name": "#%%\n"
    }
   }
  },
  {
   "cell_type": "markdown",
   "source": [
    "## Query 2\n",
    "You can choose years between 1990 and 2015"
   ],
   "metadata": {
    "collapsed": false,
    "pycharm": {
     "name": "#%% md\n"
    }
   }
  },
  {
   "cell_type": "code",
   "execution_count": 4,
   "outputs": [
    {
     "data": {
      "text/plain": "      MovieID                                              Title  Year  \\\n0      105601                                           Titanica  1995   \n1      107070                                         Halbe Welt  1995   \n2      107696                                  A Dangerous Place  1995   \n3      108380                                   Trapped in Space  1995   \n4      109028                                         Cold Fever  1995   \n...       ...                                                ...   ...   \n9000  2155247                      Australian Atomic Confessions  2005   \n9001  2248926              Un attore contro - Gian Maria Volont�  2005   \n9002  2650192             Celestial Subway Lines/Salvaging Noise  2005   \n9003  2780668  What's Going on the Life and Death of Marvin Gaye  2005   \n9004  3645848                      Crossfire: Hate Is Like a Gun  2005   \n\n      IMDbRating                  Awards  \n0            6.5           1 nomination.  \n1            6.5  2 wins & 1 nomination.  \n2            5.2                    None  \n3            4.9                    None  \n4            7.1                 3 wins.  \n...          ...                     ...  \n9000         NaN                    None  \n9001         6.8                    None  \n9002         NaN                    None  \n9003         7.6                    None  \n9004         NaN                    None  \n\n[9005 rows x 5 columns]",
      "text/html": "<div>\n<style scoped>\n    .dataframe tbody tr th:only-of-type {\n        vertical-align: middle;\n    }\n\n    .dataframe tbody tr th {\n        vertical-align: top;\n    }\n\n    .dataframe thead th {\n        text-align: right;\n    }\n</style>\n<table border=\"1\" class=\"dataframe\">\n  <thead>\n    <tr style=\"text-align: right;\">\n      <th></th>\n      <th>MovieID</th>\n      <th>Title</th>\n      <th>Year</th>\n      <th>IMDbRating</th>\n      <th>Awards</th>\n    </tr>\n  </thead>\n  <tbody>\n    <tr>\n      <th>0</th>\n      <td>105601</td>\n      <td>Titanica</td>\n      <td>1995</td>\n      <td>6.5</td>\n      <td>1 nomination.</td>\n    </tr>\n    <tr>\n      <th>1</th>\n      <td>107070</td>\n      <td>Halbe Welt</td>\n      <td>1995</td>\n      <td>6.5</td>\n      <td>2 wins &amp; 1 nomination.</td>\n    </tr>\n    <tr>\n      <th>2</th>\n      <td>107696</td>\n      <td>A Dangerous Place</td>\n      <td>1995</td>\n      <td>5.2</td>\n      <td>None</td>\n    </tr>\n    <tr>\n      <th>3</th>\n      <td>108380</td>\n      <td>Trapped in Space</td>\n      <td>1995</td>\n      <td>4.9</td>\n      <td>None</td>\n    </tr>\n    <tr>\n      <th>4</th>\n      <td>109028</td>\n      <td>Cold Fever</td>\n      <td>1995</td>\n      <td>7.1</td>\n      <td>3 wins.</td>\n    </tr>\n    <tr>\n      <th>...</th>\n      <td>...</td>\n      <td>...</td>\n      <td>...</td>\n      <td>...</td>\n      <td>...</td>\n    </tr>\n    <tr>\n      <th>9000</th>\n      <td>2155247</td>\n      <td>Australian Atomic Confessions</td>\n      <td>2005</td>\n      <td>NaN</td>\n      <td>None</td>\n    </tr>\n    <tr>\n      <th>9001</th>\n      <td>2248926</td>\n      <td>Un attore contro - Gian Maria Volont�</td>\n      <td>2005</td>\n      <td>6.8</td>\n      <td>None</td>\n    </tr>\n    <tr>\n      <th>9002</th>\n      <td>2650192</td>\n      <td>Celestial Subway Lines/Salvaging Noise</td>\n      <td>2005</td>\n      <td>NaN</td>\n      <td>None</td>\n    </tr>\n    <tr>\n      <th>9003</th>\n      <td>2780668</td>\n      <td>What's Going on the Life and Death of Marvin Gaye</td>\n      <td>2005</td>\n      <td>7.6</td>\n      <td>None</td>\n    </tr>\n    <tr>\n      <th>9004</th>\n      <td>3645848</td>\n      <td>Crossfire: Hate Is Like a Gun</td>\n      <td>2005</td>\n      <td>NaN</td>\n      <td>None</td>\n    </tr>\n  </tbody>\n</table>\n<p>9005 rows × 5 columns</p>\n</div>"
     },
     "execution_count": 4,
     "metadata": {},
     "output_type": "execute_result"
    }
   ],
   "source": [
    "que.query_2(1995,2005)"
   ],
   "metadata": {
    "collapsed": false,
    "pycharm": {
     "name": "#%%\n"
    }
   }
  },
  {
   "cell_type": "markdown",
   "source": [
    "## Query 3\n",
    "Choose the minimum number of movies by year and genre as you wish"
   ],
   "metadata": {
    "collapsed": false,
    "pycharm": {
     "name": "#%% md\n"
    }
   }
  },
  {
   "cell_type": "code",
   "execution_count": 5,
   "outputs": [
    {
     "data": {
      "text/plain": "       Genre  Year  Movies Number\n0     Action  2008              9\n1     Action  2011             11\n2     Action  2014             12\n3     Action  2015             39\n4     Action  2016             14\n..       ...   ...            ...\n889  Western  1968             18\n890  Western  1969             17\n891  Western  1970             14\n892  Western  1971             21\n893  Western  1972             11\n\n[894 rows x 3 columns]",
      "text/html": "<div>\n<style scoped>\n    .dataframe tbody tr th:only-of-type {\n        vertical-align: middle;\n    }\n\n    .dataframe tbody tr th {\n        vertical-align: top;\n    }\n\n    .dataframe thead th {\n        text-align: right;\n    }\n</style>\n<table border=\"1\" class=\"dataframe\">\n  <thead>\n    <tr style=\"text-align: right;\">\n      <th></th>\n      <th>Genre</th>\n      <th>Year</th>\n      <th>Movies Number</th>\n    </tr>\n  </thead>\n  <tbody>\n    <tr>\n      <th>0</th>\n      <td>Action</td>\n      <td>2008</td>\n      <td>9</td>\n    </tr>\n    <tr>\n      <th>1</th>\n      <td>Action</td>\n      <td>2011</td>\n      <td>11</td>\n    </tr>\n    <tr>\n      <th>2</th>\n      <td>Action</td>\n      <td>2014</td>\n      <td>12</td>\n    </tr>\n    <tr>\n      <th>3</th>\n      <td>Action</td>\n      <td>2015</td>\n      <td>39</td>\n    </tr>\n    <tr>\n      <th>4</th>\n      <td>Action</td>\n      <td>2016</td>\n      <td>14</td>\n    </tr>\n    <tr>\n      <th>...</th>\n      <td>...</td>\n      <td>...</td>\n      <td>...</td>\n    </tr>\n    <tr>\n      <th>889</th>\n      <td>Western</td>\n      <td>1968</td>\n      <td>18</td>\n    </tr>\n    <tr>\n      <th>890</th>\n      <td>Western</td>\n      <td>1969</td>\n      <td>17</td>\n    </tr>\n    <tr>\n      <th>891</th>\n      <td>Western</td>\n      <td>1970</td>\n      <td>14</td>\n    </tr>\n    <tr>\n      <th>892</th>\n      <td>Western</td>\n      <td>1971</td>\n      <td>21</td>\n    </tr>\n    <tr>\n      <th>893</th>\n      <td>Western</td>\n      <td>1972</td>\n      <td>11</td>\n    </tr>\n  </tbody>\n</table>\n<p>894 rows × 3 columns</p>\n</div>"
     },
     "execution_count": 5,
     "metadata": {},
     "output_type": "execute_result"
    }
   ],
   "source": [
    "que.query_3(7)"
   ],
   "metadata": {
    "collapsed": false,
    "pycharm": {
     "name": "#%%\n"
    }
   }
  },
  {
   "cell_type": "markdown",
   "source": [
    "## Query 4\n",
    "You can use whatever word you think will appear in a plot of the movie"
   ],
   "metadata": {
    "collapsed": false,
    "pycharm": {
     "name": "#%% md\n"
    }
   }
  },
  {
   "cell_type": "code",
   "execution_count": 6,
   "outputs": [
    {
     "data": {
      "text/plain": "       IMDBid                           Title\n0         211              A Trip to the Moon\n1         242           The Sign of the Cross\n2         399          Jack and the Beanstalk\n3         417              A Trip to the Moon\n4         420             Alice in Wonderland\n...       ...                             ...\n2405  4240654                          Sicc�n\n2406  4296026                  Avengers Grimm\n2407  4462082                        Counting\n2408  4653606  Nate Bargatze: Full Time Magic\n2409  4789290                 A Kind of Magic\n\n[2410 rows x 2 columns]",
      "text/html": "<div>\n<style scoped>\n    .dataframe tbody tr th:only-of-type {\n        vertical-align: middle;\n    }\n\n    .dataframe tbody tr th {\n        vertical-align: top;\n    }\n\n    .dataframe thead th {\n        text-align: right;\n    }\n</style>\n<table border=\"1\" class=\"dataframe\">\n  <thead>\n    <tr style=\"text-align: right;\">\n      <th></th>\n      <th>IMDBid</th>\n      <th>Title</th>\n    </tr>\n  </thead>\n  <tbody>\n    <tr>\n      <th>0</th>\n      <td>211</td>\n      <td>A Trip to the Moon</td>\n    </tr>\n    <tr>\n      <th>1</th>\n      <td>242</td>\n      <td>The Sign of the Cross</td>\n    </tr>\n    <tr>\n      <th>2</th>\n      <td>399</td>\n      <td>Jack and the Beanstalk</td>\n    </tr>\n    <tr>\n      <th>3</th>\n      <td>417</td>\n      <td>A Trip to the Moon</td>\n    </tr>\n    <tr>\n      <th>4</th>\n      <td>420</td>\n      <td>Alice in Wonderland</td>\n    </tr>\n    <tr>\n      <th>...</th>\n      <td>...</td>\n      <td>...</td>\n    </tr>\n    <tr>\n      <th>2405</th>\n      <td>4240654</td>\n      <td>Sicc�n</td>\n    </tr>\n    <tr>\n      <th>2406</th>\n      <td>4296026</td>\n      <td>Avengers Grimm</td>\n    </tr>\n    <tr>\n      <th>2407</th>\n      <td>4462082</td>\n      <td>Counting</td>\n    </tr>\n    <tr>\n      <th>2408</th>\n      <td>4653606</td>\n      <td>Nate Bargatze: Full Time Magic</td>\n    </tr>\n    <tr>\n      <th>2409</th>\n      <td>4789290</td>\n      <td>A Kind of Magic</td>\n    </tr>\n  </tbody>\n</table>\n<p>2410 rows × 2 columns</p>\n</div>"
     },
     "execution_count": 6,
     "metadata": {},
     "output_type": "execute_result"
    }
   ],
   "source": [
    "que.query_4(\"MAGIC\")"
   ],
   "metadata": {
    "collapsed": false,
    "pycharm": {
     "name": "#%%\n"
    }
   }
  },
  {
   "cell_type": "markdown",
   "source": [
    "## Query 5\n",
    "Choose minimum number of movies above the average rating per director"
   ],
   "metadata": {
    "collapsed": false,
    "pycharm": {
     "name": "#%% md\n"
    }
   }
  },
  {
   "cell_type": "code",
   "execution_count": 7,
   "outputs": [
    {
     "data": {
      "text/plain": "                                               director  movie_count\n0                                  A. Edward Sutherland            4\n1                                       A.R. Murugadoss            5\n2     Abbas Alibhai Burmawalla, Mastan Alibhai Burma...            6\n3                                      Abbas Kiarostami           19\n4                                   Abdellatif Kechiche            4\n...                                                 ...          ...\n1336                                       Zoltan Korda            5\n1337                                        �agan Irmak            6\n1338                                   �douard Molinaro            6\n1339                                 �lex de la Iglesia            9\n1340                                  �tienne Chatiliez            4\n\n[1341 rows x 2 columns]",
      "text/html": "<div>\n<style scoped>\n    .dataframe tbody tr th:only-of-type {\n        vertical-align: middle;\n    }\n\n    .dataframe tbody tr th {\n        vertical-align: top;\n    }\n\n    .dataframe thead th {\n        text-align: right;\n    }\n</style>\n<table border=\"1\" class=\"dataframe\">\n  <thead>\n    <tr style=\"text-align: right;\">\n      <th></th>\n      <th>director</th>\n      <th>movie_count</th>\n    </tr>\n  </thead>\n  <tbody>\n    <tr>\n      <th>0</th>\n      <td>A. Edward Sutherland</td>\n      <td>4</td>\n    </tr>\n    <tr>\n      <th>1</th>\n      <td>A.R. Murugadoss</td>\n      <td>5</td>\n    </tr>\n    <tr>\n      <th>2</th>\n      <td>Abbas Alibhai Burmawalla, Mastan Alibhai Burma...</td>\n      <td>6</td>\n    </tr>\n    <tr>\n      <th>3</th>\n      <td>Abbas Kiarostami</td>\n      <td>19</td>\n    </tr>\n    <tr>\n      <th>4</th>\n      <td>Abdellatif Kechiche</td>\n      <td>4</td>\n    </tr>\n    <tr>\n      <th>...</th>\n      <td>...</td>\n      <td>...</td>\n    </tr>\n    <tr>\n      <th>1336</th>\n      <td>Zoltan Korda</td>\n      <td>5</td>\n    </tr>\n    <tr>\n      <th>1337</th>\n      <td>�agan Irmak</td>\n      <td>6</td>\n    </tr>\n    <tr>\n      <th>1338</th>\n      <td>�douard Molinaro</td>\n      <td>6</td>\n    </tr>\n    <tr>\n      <th>1339</th>\n      <td>�lex de la Iglesia</td>\n      <td>9</td>\n    </tr>\n    <tr>\n      <th>1340</th>\n      <td>�tienne Chatiliez</td>\n      <td>4</td>\n    </tr>\n  </tbody>\n</table>\n<p>1341 rows × 2 columns</p>\n</div>"
     },
     "execution_count": 7,
     "metadata": {},
     "output_type": "execute_result"
    }
   ],
   "source": [
    "que.query_5(3)"
   ],
   "metadata": {
    "collapsed": false,
    "pycharm": {
     "name": "#%%\n"
    }
   }
  },
  {
   "cell_type": "markdown",
   "source": [
    "## Query 6\n",
    "Choose your favorite actor"
   ],
   "metadata": {
    "collapsed": false,
    "pycharm": {
     "name": "#%% md\n"
    }
   }
  },
  {
   "cell_type": "code",
   "execution_count": 10,
   "outputs": [
    {
     "data": {
      "text/plain": "   Year  Movies Counter Average Rating per Year\n0  2010              34       7.150000020861626\n1  2011              34       7.150000020861626\n2  2012              34       7.150000020861626\n3  2013              34       7.150000020861626\n4  2014              34       7.150000020861626",
      "text/html": "<div>\n<style scoped>\n    .dataframe tbody tr th:only-of-type {\n        vertical-align: middle;\n    }\n\n    .dataframe tbody tr th {\n        vertical-align: top;\n    }\n\n    .dataframe thead th {\n        text-align: right;\n    }\n</style>\n<table border=\"1\" class=\"dataframe\">\n  <thead>\n    <tr style=\"text-align: right;\">\n      <th></th>\n      <th>Year</th>\n      <th>Movies Counter</th>\n      <th>Average Rating per Year</th>\n    </tr>\n  </thead>\n  <tbody>\n    <tr>\n      <th>0</th>\n      <td>2010</td>\n      <td>34</td>\n      <td>7.150000020861626</td>\n    </tr>\n    <tr>\n      <th>1</th>\n      <td>2011</td>\n      <td>34</td>\n      <td>7.150000020861626</td>\n    </tr>\n    <tr>\n      <th>2</th>\n      <td>2012</td>\n      <td>34</td>\n      <td>7.150000020861626</td>\n    </tr>\n    <tr>\n      <th>3</th>\n      <td>2013</td>\n      <td>34</td>\n      <td>7.150000020861626</td>\n    </tr>\n    <tr>\n      <th>4</th>\n      <td>2014</td>\n      <td>34</td>\n      <td>7.150000020861626</td>\n    </tr>\n  </tbody>\n</table>\n</div>"
     },
     "execution_count": 10,
     "metadata": {},
     "output_type": "execute_result"
    }
   ],
   "source": [
    "que.query_6(actor=\"matt damon\", start_year= 2010, end_year= 2014)"
   ],
   "metadata": {
    "collapsed": false,
    "pycharm": {
     "name": "#%%\n"
    }
   }
  },
  {
   "cell_type": "markdown",
   "source": [
    "## Query 7"
   ],
   "metadata": {
    "collapsed": false,
    "pycharm": {
     "name": "#%% md\n"
    }
   }
  },
  {
   "cell_type": "code",
   "execution_count": 9,
   "outputs": [
    {
     "data": {
      "text/plain": "   Year          Director                      Genre  Movies_Counter\n0  2009  Fedor Bondarchuk  Action, Adventure, Sci-Fi               2\n1  2012   Christopher Ray     Action, Horror, Sci-Fi               2\n2  2014    Kazuchika Kise  Animation, Action, Sci-Fi               2",
      "text/html": "<div>\n<style scoped>\n    .dataframe tbody tr th:only-of-type {\n        vertical-align: middle;\n    }\n\n    .dataframe tbody tr th {\n        vertical-align: top;\n    }\n\n    .dataframe thead th {\n        text-align: right;\n    }\n</style>\n<table border=\"1\" class=\"dataframe\">\n  <thead>\n    <tr style=\"text-align: right;\">\n      <th></th>\n      <th>Year</th>\n      <th>Director</th>\n      <th>Genre</th>\n      <th>Movies_Counter</th>\n    </tr>\n  </thead>\n  <tbody>\n    <tr>\n      <th>0</th>\n      <td>2009</td>\n      <td>Fedor Bondarchuk</td>\n      <td>Action, Adventure, Sci-Fi</td>\n      <td>2</td>\n    </tr>\n    <tr>\n      <th>1</th>\n      <td>2012</td>\n      <td>Christopher Ray</td>\n      <td>Action, Horror, Sci-Fi</td>\n      <td>2</td>\n    </tr>\n    <tr>\n      <th>2</th>\n      <td>2014</td>\n      <td>Kazuchika Kise</td>\n      <td>Animation, Action, Sci-Fi</td>\n      <td>2</td>\n    </tr>\n  </tbody>\n</table>\n</div>"
     },
     "execution_count": 9,
     "metadata": {},
     "output_type": "execute_result"
    }
   ],
   "source": [
    "que.query_7(\"Sci-Fi\")"
   ],
   "metadata": {
    "collapsed": false,
    "pycharm": {
     "name": "#%%\n"
    }
   }
  }
 ],
 "metadata": {
  "kernelspec": {
   "display_name": "Python 3",
   "language": "python",
   "name": "python3"
  },
  "language_info": {
   "codemirror_mode": {
    "name": "ipython",
    "version": 2
   },
   "file_extension": ".py",
   "mimetype": "text/x-python",
   "name": "python",
   "nbconvert_exporter": "python",
   "pygments_lexer": "ipython2",
   "version": "2.7.6"
  }
 },
 "nbformat": 4,
 "nbformat_minor": 0
}