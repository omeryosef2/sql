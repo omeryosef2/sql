{
 "cells": [
  {
   "cell_type": "code",
   "execution_count": null,
   "id": "404d7660",
   "metadata": {
    "pycharm": {
     "name": "#%%\n"
    }
   },
   "outputs": [],
   "source": [
    "import MySQLdb as sql"
   ]
  },
  {
   "cell_type": "code",
   "execution_count": 2,
   "id": "964741d5",
   "metadata": {
    "pycharm": {
     "name": "#%%\n"
    }
   },
   "outputs": [],
   "source": [
    "import pandas as pd\n",
    "\n",
    "zip_path = './IMDB.zip'\n",
    "csv_file_name = 'IMDB.csv'  # Optional if the ZIP contains only one CSV file\n",
    "\n",
    "# If the ZIP contains only one CSV file, you can omit the `csv_file_name`\n",
    "df = pd.read_csv(zip_path, compression='zip')\n"
   ]
  },
  {
   "cell_type": "code",
   "execution_count": 3,
   "id": "77b23da6",
   "metadata": {
    "pycharm": {
     "name": "#%%\n"
    }
   },
   "outputs": [
    {
     "data": {
      "text/plain": "Index(['imdbID', 'title', 'year', 'rating', 'runtime', 'genre', 'released',\n       'director', 'writer', 'cast', 'metacritic', 'imdbRating', 'imdbVotes',\n       'poster', 'plot', 'fullplot', 'language', 'country', 'awards',\n       'lastupdated', 'type'],\n      dtype='object')"
     },
     "execution_count": 3,
     "metadata": {},
     "output_type": "execute_result"
    }
   ],
   "source": [
    "df.columns"
   ]
  },
  {
   "cell_type": "code",
   "execution_count": 4,
   "id": "4093287e",
   "metadata": {
    "pycharm": {
     "name": "#%%\n"
    }
   },
   "outputs": [],
   "source": [
    "df.drop_duplicates(inplace=True)"
   ]
  },
  {
   "cell_type": "code",
   "execution_count": 5,
   "id": "a98f2e93",
   "metadata": {
    "pycharm": {
     "name": "#%%\n"
    }
   },
   "outputs": [],
   "source": [
    "df['imdbVotes'] = df['imdbVotes'].fillna(0)  \n",
    "df = df.loc[df.groupby('imdbID')['imdbVotes'].idxmax()].reset_index(drop=True)"
   ]
  },
  {
   "cell_type": "code",
   "execution_count": 9,
   "outputs": [
    {
     "data": {
      "text/plain": "0        5.9\n1        6.7\n2        6.2\n3        5.9\n4        6.9\n        ... \n44492    NaN\n44493    NaN\n44494    NaN\n44495    NaN\n44496    NaN\nName: imdbRating, Length: 44497, dtype: float64"
     },
     "execution_count": 9,
     "metadata": {},
     "output_type": "execute_result"
    }
   ],
   "source": [
    "df[\"imdbRating\"]"
   ],
   "metadata": {
    "collapsed": false,
    "pycharm": {
     "name": "#%%\n"
    }
   }
  },
  {
   "cell_type": "code",
   "execution_count": 10,
   "outputs": [
    {
     "data": {
      "text/plain": "   imdbID                                   title  year     rating runtime  \\\n0       1                              Carmencita  1894  NOT RATED   1 min   \n1       3                          Pauvre Pierrot  1892        NaN   4 min   \n2       5                        Blacksmith Scene  1893    UNRATED   1 min   \n3       8  Edison Kinetoscopic Record of a Sneeze  1894        NaN   1 min   \n4      10   Employees Leaving the Lumi�re Factory  1895        NaN   1 min   \n\n                      genre    released              director writer  \\\n0        Documentary, Short         NaN  William K.L. Dickson    NaN   \n1  Animation, Comedy, Short  1892-10-28         �mile Reynaud    NaN   \n2                     Short  1893-05-09  William K.L. Dickson    NaN   \n3        Documentary, Short  1894-01-09  William K.L. Dickson    NaN   \n4        Documentary, Short  1895-03-22         Louis Lumi�re    NaN   \n\n                       cast  ...  imdbRating  imdbVotes  \\\n0                Carmencita  ...         5.9     1035.0   \n1                       NaN  ...         6.7      566.0   \n2  Charles Kayser, John Ott  ...         6.2     1189.0   \n3                  Fred Ott  ...         5.9      988.0   \n4                       NaN  ...         6.9     3478.0   \n\n                                              poster  \\\n0  https://m.media-amazon.com/images/M/MV5BMjAzND...   \n1                                                NaN   \n2                                                NaN   \n3                                                NaN   \n4                                                NaN   \n\n                                                plot  \\\n0  Performing on what looks like a small wooden s...   \n1  One night, Arlequin come to see his lover Colo...   \n2  Three men hammer on an anvil and pass a bottle...   \n3  A man (Thomas Edison's assistant) takes a pinc...   \n4  A man opens the big gates to the Lumi�re facto...   \n\n                                            fullplot language country  awards  \\\n0  Performing on what looks like a small wooden s...      NaN     USA     NaN   \n1  One night, Arlequin come to see his lover Colo...      NaN  France     NaN   \n2  A stationary camera looks at a large anvil wit...      NaN     USA  1 win.   \n3  A man (Edison's assistant) takes a pinch of sn...      NaN     USA     NaN   \n4  A man opens the big gates to the Lumi�re facto...      NaN  France     NaN   \n\n  lastupdated   type  \n0     28:41.7  movie  \n1     06:02.7  movie  \n2     03:50.1  movie  \n3     21:07.1  movie  \n4     29:17.6  movie  \n\n[5 rows x 21 columns]",
      "text/html": "<div>\n<style scoped>\n    .dataframe tbody tr th:only-of-type {\n        vertical-align: middle;\n    }\n\n    .dataframe tbody tr th {\n        vertical-align: top;\n    }\n\n    .dataframe thead th {\n        text-align: right;\n    }\n</style>\n<table border=\"1\" class=\"dataframe\">\n  <thead>\n    <tr style=\"text-align: right;\">\n      <th></th>\n      <th>imdbID</th>\n      <th>title</th>\n      <th>year</th>\n      <th>rating</th>\n      <th>runtime</th>\n      <th>genre</th>\n      <th>released</th>\n      <th>director</th>\n      <th>writer</th>\n      <th>cast</th>\n      <th>...</th>\n      <th>imdbRating</th>\n      <th>imdbVotes</th>\n      <th>poster</th>\n      <th>plot</th>\n      <th>fullplot</th>\n      <th>language</th>\n      <th>country</th>\n      <th>awards</th>\n      <th>lastupdated</th>\n      <th>type</th>\n    </tr>\n  </thead>\n  <tbody>\n    <tr>\n      <th>0</th>\n      <td>1</td>\n      <td>Carmencita</td>\n      <td>1894</td>\n      <td>NOT RATED</td>\n      <td>1 min</td>\n      <td>Documentary, Short</td>\n      <td>NaN</td>\n      <td>William K.L. Dickson</td>\n      <td>NaN</td>\n      <td>Carmencita</td>\n      <td>...</td>\n      <td>5.9</td>\n      <td>1035.0</td>\n      <td>https://m.media-amazon.com/images/M/MV5BMjAzND...</td>\n      <td>Performing on what looks like a small wooden s...</td>\n      <td>Performing on what looks like a small wooden s...</td>\n      <td>NaN</td>\n      <td>USA</td>\n      <td>NaN</td>\n      <td>28:41.7</td>\n      <td>movie</td>\n    </tr>\n    <tr>\n      <th>1</th>\n      <td>3</td>\n      <td>Pauvre Pierrot</td>\n      <td>1892</td>\n      <td>NaN</td>\n      <td>4 min</td>\n      <td>Animation, Comedy, Short</td>\n      <td>1892-10-28</td>\n      <td>�mile Reynaud</td>\n      <td>NaN</td>\n      <td>NaN</td>\n      <td>...</td>\n      <td>6.7</td>\n      <td>566.0</td>\n      <td>NaN</td>\n      <td>One night, Arlequin come to see his lover Colo...</td>\n      <td>One night, Arlequin come to see his lover Colo...</td>\n      <td>NaN</td>\n      <td>France</td>\n      <td>NaN</td>\n      <td>06:02.7</td>\n      <td>movie</td>\n    </tr>\n    <tr>\n      <th>2</th>\n      <td>5</td>\n      <td>Blacksmith Scene</td>\n      <td>1893</td>\n      <td>UNRATED</td>\n      <td>1 min</td>\n      <td>Short</td>\n      <td>1893-05-09</td>\n      <td>William K.L. Dickson</td>\n      <td>NaN</td>\n      <td>Charles Kayser, John Ott</td>\n      <td>...</td>\n      <td>6.2</td>\n      <td>1189.0</td>\n      <td>NaN</td>\n      <td>Three men hammer on an anvil and pass a bottle...</td>\n      <td>A stationary camera looks at a large anvil wit...</td>\n      <td>NaN</td>\n      <td>USA</td>\n      <td>1 win.</td>\n      <td>03:50.1</td>\n      <td>movie</td>\n    </tr>\n    <tr>\n      <th>3</th>\n      <td>8</td>\n      <td>Edison Kinetoscopic Record of a Sneeze</td>\n      <td>1894</td>\n      <td>NaN</td>\n      <td>1 min</td>\n      <td>Documentary, Short</td>\n      <td>1894-01-09</td>\n      <td>William K.L. Dickson</td>\n      <td>NaN</td>\n      <td>Fred Ott</td>\n      <td>...</td>\n      <td>5.9</td>\n      <td>988.0</td>\n      <td>NaN</td>\n      <td>A man (Thomas Edison's assistant) takes a pinc...</td>\n      <td>A man (Edison's assistant) takes a pinch of sn...</td>\n      <td>NaN</td>\n      <td>USA</td>\n      <td>NaN</td>\n      <td>21:07.1</td>\n      <td>movie</td>\n    </tr>\n    <tr>\n      <th>4</th>\n      <td>10</td>\n      <td>Employees Leaving the Lumi�re Factory</td>\n      <td>1895</td>\n      <td>NaN</td>\n      <td>1 min</td>\n      <td>Documentary, Short</td>\n      <td>1895-03-22</td>\n      <td>Louis Lumi�re</td>\n      <td>NaN</td>\n      <td>NaN</td>\n      <td>...</td>\n      <td>6.9</td>\n      <td>3478.0</td>\n      <td>NaN</td>\n      <td>A man opens the big gates to the Lumi�re facto...</td>\n      <td>A man opens the big gates to the Lumi�re facto...</td>\n      <td>NaN</td>\n      <td>France</td>\n      <td>NaN</td>\n      <td>29:17.6</td>\n      <td>movie</td>\n    </tr>\n  </tbody>\n</table>\n<p>5 rows × 21 columns</p>\n</div>"
     },
     "execution_count": 10,
     "metadata": {},
     "output_type": "execute_result"
    }
   ],
   "source": [
    "df.head()"
   ],
   "metadata": {
    "collapsed": false,
    "pycharm": {
     "name": "#%%\n"
    }
   }
  },
  {
   "cell_type": "code",
   "execution_count": null,
   "id": "296bf32a",
   "metadata": {
    "pycharm": {
     "name": "#%%\n"
    }
   },
   "outputs": [],
   "source": [
    "##Genres\n",
    "##Rating and awards\n",
    "##Fullplot of the movie\n",
    "##Country\n",
    "##Crew - director, write and cast"
   ]
  },
  {
   "cell_type": "markdown",
   "id": "8dc71ef0",
   "metadata": {
    "pycharm": {
     "name": "#%% md\n"
    }
   },
   "source": [
    "## Creating the tables"
   ]
  },
  {
   "cell_type": "code",
   "execution_count": 5,
   "id": "efefb38d",
   "metadata": {
    "pycharm": {
     "name": "#%%\n"
    }
   },
   "outputs": [
    {
     "name": "stdout",
     "output_type": "stream",
     "text": [
      "Error while connecting to MySQL 2003 (HY000): Can't connect to MySQL server on 'mysqlsrv1.cs.tau.ac.il:3306' (10060)\n"
     ]
    }
   ],
   "source": [
    "import mysql.connector\n",
    "from mysql.connector import Error\n",
    "\n",
    "try:\n",
    "    connection = mysql.connector.connect(\n",
    "        host='mysqlsrv1.cs.tau.ac.il',\n",
    "        database='omeryosef',\n",
    "        user='omeryosef',\n",
    "        password='omery58087'\n",
    "    )\n",
    "    if connection.is_connected():\n",
    "        db_Info = connection.get_server_info()\n",
    "        print(\"Connected to MySQL Server version \", db_Info)\n",
    "        cursor = connection.cursor()\n",
    "        cursor.execute(\"select database();\")\n",
    "        record = cursor.fetchone()\n",
    "        print(\"You're connected to database: \", record)\n",
    "\n",
    "except Error as e:\n",
    "    print(\"Error while connecting to MySQL\", e)\n"
   ]
  },
  {
   "cell_type": "code",
   "execution_count": null,
   "id": "90b9b4e6",
   "metadata": {
    "pycharm": {
     "name": "#%%\n"
    }
   },
   "outputs": [],
   "source": []
  }
 ],
 "metadata": {
  "kernelspec": {
   "display_name": "Python 3 (ipykernel)",
   "language": "python",
   "name": "python3"
  },
  "language_info": {
   "codemirror_mode": {
    "name": "ipython",
    "version": 3
   },
   "file_extension": ".py",
   "mimetype": "text/x-python",
   "name": "python",
   "nbconvert_exporter": "python",
   "pygments_lexer": "ipython3",
   "version": "3.9.7"
  }
 },
 "nbformat": 4,
 "nbformat_minor": 5
}