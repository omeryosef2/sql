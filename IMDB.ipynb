{
 "cells": [
  {
   "cell_type": "code",
   "execution_count": null,
   "id": "404d7660",
   "metadata": {
    "pycharm": {
     "name": "#%%\n"
    }
   },
   "outputs": [],
   "source": [
    "import MySQLdb as sql"
   ]
  },
  {
   "cell_type": "code",
   "execution_count": 40,
   "id": "964741d5",
   "metadata": {
    "pycharm": {
     "name": "#%%\n"
    }
   },
   "outputs": [],
   "source": [
    "import pandas as pd\n",
    "\n",
    "zip_path = './IMDB.zip'\n",
    "csv_file_name = 'IMDB.csv'  # Optional if the ZIP contains only one CSV file\n",
    "\n",
    "# If the ZIP contains only one CSV file, you can omit the `csv_file_name`\n",
    "df = pd.read_csv(zip_path, compression='zip')\n"
   ]
  },
  {
   "cell_type": "code",
   "execution_count": 41,
   "id": "77b23da6",
   "metadata": {
    "pycharm": {
     "name": "#%%\n"
    }
   },
   "outputs": [
    {
     "data": {
      "text/plain": [
       "Index(['imdbID', 'title', 'year', 'rating', 'runtime', 'genre', 'released',\n",
       "       'director', 'writer', 'cast', 'metacritic', 'imdbRating', 'imdbVotes',\n",
       "       'poster', 'plot', 'fullplot', 'language', 'country', 'awards',\n",
       "       'lastupdated', 'type'],\n",
       "      dtype='object')"
      ]
     },
     "execution_count": 41,
     "metadata": {},
     "output_type": "execute_result"
    }
   ],
   "source": [
    "df.columns"
   ]
  },
  {
   "cell_type": "code",
   "execution_count": 42,
   "id": "4093287e",
   "metadata": {
    "pycharm": {
     "name": "#%%\n"
    }
   },
   "outputs": [],
   "source": [
    "df.drop_duplicates(inplace=True)"
   ]
  },
  {
   "cell_type": "code",
   "execution_count": 43,
   "id": "a98f2e93",
   "metadata": {
    "pycharm": {
     "name": "#%%\n"
    }
   },
   "outputs": [],
   "source": [
    "df['imdbVotes'] = df['imdbVotes'].fillna(0)  \n",
    "df = df.loc[df.groupby('imdbID')['imdbVotes'].idxmax()].reset_index(drop=True)"
   ]
  },
  {
   "cell_type": "code",
   "execution_count": null,
   "id": "296bf32a",
   "metadata": {
    "pycharm": {
     "name": "#%%\n"
    }
   },
   "outputs": [],
   "source": [
    "##Genres\n",
    "##Rating and awards\n",
    "##Fullplot of the movie\n",
    "##Country\n",
    "##Crew - director, write and cast"
   ]
  },
  {
   "cell_type": "markdown",
   "id": "8dc71ef0",
   "metadata": {
    "pycharm": {
     "name": "#%% md\n"
    }
   },
   "source": [
    "## Creating the tables"
   ]
  },
  {
   "cell_type": "code",
   "execution_count": 5,
   "id": "efefb38d",
   "metadata": {
    "pycharm": {
     "name": "#%%\n"
    }
   },
   "outputs": [
    {
     "name": "stdout",
     "output_type": "stream",
     "text": [
      "Error while connecting to MySQL 2003 (HY000): Can't connect to MySQL server on 'mysqlsrv1.cs.tau.ac.il:3306' (10060)\n"
     ]
    }
   ],
   "source": [
    "import mysql.connector\n",
    "from mysql.connector import Error\n",
    "\n",
    "try:\n",
    "    connection = mysql.connector.connect(\n",
    "        host='mysqlsrv1.cs.tau.ac.il',\n",
    "        database='omeryosef',\n",
    "        user='omeryosef',\n",
    "        password='omery58087'\n",
    "    )\n",
    "    if connection.is_connected():\n",
    "        db_Info = connection.get_server_info()\n",
    "        print(\"Connected to MySQL Server version \", db_Info)\n",
    "        cursor = connection.cursor()\n",
    "        cursor.execute(\"select database();\")\n",
    "        record = cursor.fetchone()\n",
    "        print(\"You're connected to database: \", record)\n",
    "\n",
    "except Error as e:\n",
    "    print(\"Error while connecting to MySQL\", e)\n"
   ]
  },
  {
   "cell_type": "code",
   "execution_count": null,
   "id": "90b9b4e6",
   "metadata": {
    "pycharm": {
     "name": "#%%\n"
    }
   },
   "outputs": [],
   "source": []
  }
 ],
 "metadata": {
  "kernelspec": {
   "display_name": "Python 3 (ipykernel)",
   "language": "python",
   "name": "python3"
  },
  "language_info": {
   "codemirror_mode": {
    "name": "ipython",
    "version": 3
   },
   "file_extension": ".py",
   "mimetype": "text/x-python",
   "name": "python",
   "nbconvert_exporter": "python",
   "pygments_lexer": "ipython3",
   "version": "3.9.7"
  }
 },
 "nbformat": 4,
 "nbformat_minor": 5
}