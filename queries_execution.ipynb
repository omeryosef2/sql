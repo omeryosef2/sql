{
 "cells": [
  {
   "cell_type": "code",
   "execution_count": 1,
   "metadata": {
    "collapsed": true,
    "pycharm": {
     "name": "#%%\n"
    }
   },
   "outputs": [],
   "source": [
    "import pandas as pd\n",
    "import queries_db_script as que\n",
    "import mysql\n",
    "import create_db_script as cre\n",
    "import api_data_retrieve as api\n",
    "from tqdm import tqdm\n",
    "pd.set_option('display.max_columns', None)"
   ]
  },
  {
   "cell_type": "markdown",
   "source": [
    "## Main\n",
    "\n",
    "There's no need to rum the main function, since our DB is already built according to the main"
   ],
   "metadata": {
    "collapsed": false,
    "pycharm": {
     "name": "#%% md\n"
    }
   }
  },
  {
   "cell_type": "code",
   "execution_count": 2,
   "outputs": [],
   "source": [
    "def main():\n",
    "    cre.create_all_tables()\n",
    "    api.insert_all_tables_data()\n",
    "    cre.create_all_index()"
   ],
   "metadata": {
    "collapsed": false,
    "pycharm": {
     "name": "#%%\n"
    }
   }
  },
  {
   "cell_type": "markdown",
   "source": [
    "## These are tests of the queries that we created"
   ],
   "metadata": {
    "collapsed": false,
    "pycharm": {
     "name": "#%% md\n"
    }
   }
  },
  {
   "cell_type": "markdown",
   "source": [
    "## In queries that ask for genre, you can use one of the following as you wish:\n",
    "Drama, Documentary, Comedy, Sci-Fi, Action, Short, Fantasy, Biography, Crime, War, Family, Animation"
   ],
   "metadata": {
    "collapsed": false,
    "pycharm": {
     "name": "#%% md\n"
    }
   }
  },
  {
   "cell_type": "markdown",
   "source": [
    "## In queries that ask for actor names, it doesn't matter if it's upper or lower case"
   ],
   "metadata": {
    "collapsed": false,
    "pycharm": {
     "name": "#%% md\n"
    }
   }
  },
  {
   "cell_type": "markdown",
   "source": [
    "## Query 1"
   ],
   "metadata": {
    "collapsed": false,
    "pycharm": {
     "name": "#%% md\n"
    }
   }
  },
  {
   "cell_type": "code",
   "execution_count": 3,
   "outputs": [
    {
     "data": {
      "text/plain": "       MovieID  Genre                                   Title\n0          230  Drama                              Cinderella\n1         1431  Drama                      The Unchanging Sea\n2         2101  Drama                               Cleopatra\n3         2461  Drama  The Life and Death of King Richard III\n4         2544  Drama                       Tr�dg�rdsm�staren\n...        ...    ...                                     ...\n11031  4990652  Drama                            Noc Walpurgi\n11032  4991384  Drama                           Interrogation\n11033  4991590  Drama                            Interruption\n11034  4991660  Drama                           The Black Hen\n11035  5005684  Drama                       The New Classmate\n\n[11036 rows x 3 columns]",
      "text/html": "<div>\n<style scoped>\n    .dataframe tbody tr th:only-of-type {\n        vertical-align: middle;\n    }\n\n    .dataframe tbody tr th {\n        vertical-align: top;\n    }\n\n    .dataframe thead th {\n        text-align: right;\n    }\n</style>\n<table border=\"1\" class=\"dataframe\">\n  <thead>\n    <tr style=\"text-align: right;\">\n      <th></th>\n      <th>MovieID</th>\n      <th>Genre</th>\n      <th>Title</th>\n    </tr>\n  </thead>\n  <tbody>\n    <tr>\n      <th>0</th>\n      <td>230</td>\n      <td>Drama</td>\n      <td>Cinderella</td>\n    </tr>\n    <tr>\n      <th>1</th>\n      <td>1431</td>\n      <td>Drama</td>\n      <td>The Unchanging Sea</td>\n    </tr>\n    <tr>\n      <th>2</th>\n      <td>2101</td>\n      <td>Drama</td>\n      <td>Cleopatra</td>\n    </tr>\n    <tr>\n      <th>3</th>\n      <td>2461</td>\n      <td>Drama</td>\n      <td>The Life and Death of King Richard III</td>\n    </tr>\n    <tr>\n      <th>4</th>\n      <td>2544</td>\n      <td>Drama</td>\n      <td>Tr�dg�rdsm�staren</td>\n    </tr>\n    <tr>\n      <th>...</th>\n      <td>...</td>\n      <td>...</td>\n      <td>...</td>\n    </tr>\n    <tr>\n      <th>11031</th>\n      <td>4990652</td>\n      <td>Drama</td>\n      <td>Noc Walpurgi</td>\n    </tr>\n    <tr>\n      <th>11032</th>\n      <td>4991384</td>\n      <td>Drama</td>\n      <td>Interrogation</td>\n    </tr>\n    <tr>\n      <th>11033</th>\n      <td>4991590</td>\n      <td>Drama</td>\n      <td>Interruption</td>\n    </tr>\n    <tr>\n      <th>11034</th>\n      <td>4991660</td>\n      <td>Drama</td>\n      <td>The Black Hen</td>\n    </tr>\n    <tr>\n      <th>11035</th>\n      <td>5005684</td>\n      <td>Drama</td>\n      <td>The New Classmate</td>\n    </tr>\n  </tbody>\n</table>\n<p>11036 rows × 3 columns</p>\n</div>"
     },
     "execution_count": 3,
     "metadata": {},
     "output_type": "execute_result"
    }
   ],
   "source": [
    "que.query_1(\"Drama\")"
   ],
   "metadata": {
    "collapsed": false,
    "pycharm": {
     "name": "#%%\n"
    }
   }
  },
  {
   "cell_type": "markdown",
   "source": [
    "## Query 2\n",
    "You can choose years between 1990 and 2015"
   ],
   "metadata": {
    "collapsed": false,
    "pycharm": {
     "name": "#%% md\n"
    }
   }
  },
  {
   "cell_type": "code",
   "execution_count": 4,
   "outputs": [
    {
     "data": {
      "text/plain": "      MovieID                                              Title  Year  \\\n0      105601                                           Titanica  1995   \n1      107070                                         Halbe Welt  1995   \n2      107696                                  A Dangerous Place  1995   \n3      108380                                   Trapped in Space  1995   \n4      109028                                         Cold Fever  1995   \n...       ...                                                ...   ...   \n9000  2155247                      Australian Atomic Confessions  2005   \n9001  2248926              Un attore contro - Gian Maria Volont�  2005   \n9002  2650192             Celestial Subway Lines/Salvaging Noise  2005   \n9003  2780668  What's Going on the Life and Death of Marvin Gaye  2005   \n9004  3645848                      Crossfire: Hate Is Like a Gun  2005   \n\n      IMDbRating                  Awards  \n0            6.5           1 nomination.  \n1            6.5  2 wins & 1 nomination.  \n2            5.2                    None  \n3            4.9                    None  \n4            7.1                 3 wins.  \n...          ...                     ...  \n9000         NaN                    None  \n9001         6.8                    None  \n9002         NaN                    None  \n9003         7.6                    None  \n9004         NaN                    None  \n\n[9005 rows x 5 columns]",
      "text/html": "<div>\n<style scoped>\n    .dataframe tbody tr th:only-of-type {\n        vertical-align: middle;\n    }\n\n    .dataframe tbody tr th {\n        vertical-align: top;\n    }\n\n    .dataframe thead th {\n        text-align: right;\n    }\n</style>\n<table border=\"1\" class=\"dataframe\">\n  <thead>\n    <tr style=\"text-align: right;\">\n      <th></th>\n      <th>MovieID</th>\n      <th>Title</th>\n      <th>Year</th>\n      <th>IMDbRating</th>\n      <th>Awards</th>\n    </tr>\n  </thead>\n  <tbody>\n    <tr>\n      <th>0</th>\n      <td>105601</td>\n      <td>Titanica</td>\n      <td>1995</td>\n      <td>6.5</td>\n      <td>1 nomination.</td>\n    </tr>\n    <tr>\n      <th>1</th>\n      <td>107070</td>\n      <td>Halbe Welt</td>\n      <td>1995</td>\n      <td>6.5</td>\n      <td>2 wins &amp; 1 nomination.</td>\n    </tr>\n    <tr>\n      <th>2</th>\n      <td>107696</td>\n      <td>A Dangerous Place</td>\n      <td>1995</td>\n      <td>5.2</td>\n      <td>None</td>\n    </tr>\n    <tr>\n      <th>3</th>\n      <td>108380</td>\n      <td>Trapped in Space</td>\n      <td>1995</td>\n      <td>4.9</td>\n      <td>None</td>\n    </tr>\n    <tr>\n      <th>4</th>\n      <td>109028</td>\n      <td>Cold Fever</td>\n      <td>1995</td>\n      <td>7.1</td>\n      <td>3 wins.</td>\n    </tr>\n    <tr>\n      <th>...</th>\n      <td>...</td>\n      <td>...</td>\n      <td>...</td>\n      <td>...</td>\n      <td>...</td>\n    </tr>\n    <tr>\n      <th>9000</th>\n      <td>2155247</td>\n      <td>Australian Atomic Confessions</td>\n      <td>2005</td>\n      <td>NaN</td>\n      <td>None</td>\n    </tr>\n    <tr>\n      <th>9001</th>\n      <td>2248926</td>\n      <td>Un attore contro - Gian Maria Volont�</td>\n      <td>2005</td>\n      <td>6.8</td>\n      <td>None</td>\n    </tr>\n    <tr>\n      <th>9002</th>\n      <td>2650192</td>\n      <td>Celestial Subway Lines/Salvaging Noise</td>\n      <td>2005</td>\n      <td>NaN</td>\n      <td>None</td>\n    </tr>\n    <tr>\n      <th>9003</th>\n      <td>2780668</td>\n      <td>What's Going on the Life and Death of Marvin Gaye</td>\n      <td>2005</td>\n      <td>7.6</td>\n      <td>None</td>\n    </tr>\n    <tr>\n      <th>9004</th>\n      <td>3645848</td>\n      <td>Crossfire: Hate Is Like a Gun</td>\n      <td>2005</td>\n      <td>NaN</td>\n      <td>None</td>\n    </tr>\n  </tbody>\n</table>\n<p>9005 rows × 5 columns</p>\n</div>"
     },
     "execution_count": 4,
     "metadata": {},
     "output_type": "execute_result"
    }
   ],
   "source": [
    "que.query_2(1995,2005)"
   ],
   "metadata": {
    "collapsed": false,
    "pycharm": {
     "name": "#%%\n"
    }
   }
  },
  {
   "cell_type": "markdown",
   "source": [
    "## Query 3\n",
    "Choose the minimum number of movies by year and genre as you wish"
   ],
   "metadata": {
    "collapsed": false,
    "pycharm": {
     "name": "#%% md\n"
    }
   }
  },
  {
   "cell_type": "code",
   "execution_count": 5,
   "outputs": [
    {
     "data": {
      "text/plain": "       Genre  Year  Movies Number\n0     Action  1937              8\n1     Action  1942             15\n2     Action  1943             10\n3     Action  1947             10\n4     Action  1948             12\n..       ...   ...            ...\n742  Western  1969             19\n743  Western  1970             14\n744  Western  1971             23\n745  Western  1972             15\n746  Western  1973             10\n\n[747 rows x 3 columns]",
      "text/html": "<div>\n<style scoped>\n    .dataframe tbody tr th:only-of-type {\n        vertical-align: middle;\n    }\n\n    .dataframe tbody tr th {\n        vertical-align: top;\n    }\n\n    .dataframe thead th {\n        text-align: right;\n    }\n</style>\n<table border=\"1\" class=\"dataframe\">\n  <thead>\n    <tr style=\"text-align: right;\">\n      <th></th>\n      <th>Genre</th>\n      <th>Year</th>\n      <th>Movies Number</th>\n    </tr>\n  </thead>\n  <tbody>\n    <tr>\n      <th>0</th>\n      <td>Action</td>\n      <td>1937</td>\n      <td>8</td>\n    </tr>\n    <tr>\n      <th>1</th>\n      <td>Action</td>\n      <td>1942</td>\n      <td>15</td>\n    </tr>\n    <tr>\n      <th>2</th>\n      <td>Action</td>\n      <td>1943</td>\n      <td>10</td>\n    </tr>\n    <tr>\n      <th>3</th>\n      <td>Action</td>\n      <td>1947</td>\n      <td>10</td>\n    </tr>\n    <tr>\n      <th>4</th>\n      <td>Action</td>\n      <td>1948</td>\n      <td>12</td>\n    </tr>\n    <tr>\n      <th>...</th>\n      <td>...</td>\n      <td>...</td>\n      <td>...</td>\n    </tr>\n    <tr>\n      <th>742</th>\n      <td>Western</td>\n      <td>1969</td>\n      <td>19</td>\n    </tr>\n    <tr>\n      <th>743</th>\n      <td>Western</td>\n      <td>1970</td>\n      <td>14</td>\n    </tr>\n    <tr>\n      <th>744</th>\n      <td>Western</td>\n      <td>1971</td>\n      <td>23</td>\n    </tr>\n    <tr>\n      <th>745</th>\n      <td>Western</td>\n      <td>1972</td>\n      <td>15</td>\n    </tr>\n    <tr>\n      <th>746</th>\n      <td>Western</td>\n      <td>1973</td>\n      <td>10</td>\n    </tr>\n  </tbody>\n</table>\n<p>747 rows × 3 columns</p>\n</div>"
     },
     "execution_count": 5,
     "metadata": {},
     "output_type": "execute_result"
    }
   ],
   "source": [
    "que.query_3(7)"
   ],
   "metadata": {
    "collapsed": false,
    "pycharm": {
     "name": "#%%\n"
    }
   }
  },
  {
   "cell_type": "markdown",
   "source": [
    "## Query 4\n",
    "You can use whatever word you think will appear in a plot of the movie"
   ],
   "metadata": {
    "collapsed": false,
    "pycharm": {
     "name": "#%% md\n"
    }
   }
  },
  {
   "cell_type": "code",
   "execution_count": 6,
   "outputs": [
    {
     "data": {
      "text/plain": "      IMDBid                           Title\n0        420             Alice in Wonderland\n1        534                The '?' Motorist\n2       3772                      Cinderella\n3       7361                      Snow White\n4       8891                   The Blue Bird\n..       ...                             ...\n575  4240654                          Sicc�n\n576  4296026                  Avengers Grimm\n577  4462082                        Counting\n578  4653606  Nate Bargatze: Full Time Magic\n579  4789290                 A Kind of Magic\n\n[580 rows x 2 columns]",
      "text/html": "<div>\n<style scoped>\n    .dataframe tbody tr th:only-of-type {\n        vertical-align: middle;\n    }\n\n    .dataframe tbody tr th {\n        vertical-align: top;\n    }\n\n    .dataframe thead th {\n        text-align: right;\n    }\n</style>\n<table border=\"1\" class=\"dataframe\">\n  <thead>\n    <tr style=\"text-align: right;\">\n      <th></th>\n      <th>IMDBid</th>\n      <th>Title</th>\n    </tr>\n  </thead>\n  <tbody>\n    <tr>\n      <th>0</th>\n      <td>420</td>\n      <td>Alice in Wonderland</td>\n    </tr>\n    <tr>\n      <th>1</th>\n      <td>534</td>\n      <td>The '?' Motorist</td>\n    </tr>\n    <tr>\n      <th>2</th>\n      <td>3772</td>\n      <td>Cinderella</td>\n    </tr>\n    <tr>\n      <th>3</th>\n      <td>7361</td>\n      <td>Snow White</td>\n    </tr>\n    <tr>\n      <th>4</th>\n      <td>8891</td>\n      <td>The Blue Bird</td>\n    </tr>\n    <tr>\n      <th>...</th>\n      <td>...</td>\n      <td>...</td>\n    </tr>\n    <tr>\n      <th>575</th>\n      <td>4240654</td>\n      <td>Sicc�n</td>\n    </tr>\n    <tr>\n      <th>576</th>\n      <td>4296026</td>\n      <td>Avengers Grimm</td>\n    </tr>\n    <tr>\n      <th>577</th>\n      <td>4462082</td>\n      <td>Counting</td>\n    </tr>\n    <tr>\n      <th>578</th>\n      <td>4653606</td>\n      <td>Nate Bargatze: Full Time Magic</td>\n    </tr>\n    <tr>\n      <th>579</th>\n      <td>4789290</td>\n      <td>A Kind of Magic</td>\n    </tr>\n  </tbody>\n</table>\n<p>580 rows × 2 columns</p>\n</div>"
     },
     "execution_count": 6,
     "metadata": {},
     "output_type": "execute_result"
    }
   ],
   "source": [
    "que.query_4(\"MAGIC\")"
   ],
   "metadata": {
    "collapsed": false,
    "pycharm": {
     "name": "#%%\n"
    }
   }
  },
  {
   "cell_type": "markdown",
   "source": [
    "## Query 5\n",
    "Choose minimum number of movies above the average rating per director"
   ],
   "metadata": {
    "collapsed": false,
    "pycharm": {
     "name": "#%% md\n"
    }
   }
  },
  {
   "cell_type": "code",
   "execution_count": 7,
   "outputs": [
    {
     "data": {
      "text/plain": "                                               director  movie_count\n0                                  A. Edward Sutherland            5\n1                                       A.R. Murugadoss            4\n2     Abbas Alibhai Burmawalla, Mastan Alibhai Burma...            5\n3                                      Abbas Kiarostami           18\n4                                   Abdellatif Kechiche            5\n...                                                 ...          ...\n1389                                       Zoltan Korda            7\n1390                                        �agan Irmak            7\n1391                                   �douard Molinaro            6\n1392                                 �lex de la Iglesia           10\n1393                                  �tienne Chatiliez            4\n\n[1394 rows x 2 columns]",
      "text/html": "<div>\n<style scoped>\n    .dataframe tbody tr th:only-of-type {\n        vertical-align: middle;\n    }\n\n    .dataframe tbody tr th {\n        vertical-align: top;\n    }\n\n    .dataframe thead th {\n        text-align: right;\n    }\n</style>\n<table border=\"1\" class=\"dataframe\">\n  <thead>\n    <tr style=\"text-align: right;\">\n      <th></th>\n      <th>director</th>\n      <th>movie_count</th>\n    </tr>\n  </thead>\n  <tbody>\n    <tr>\n      <th>0</th>\n      <td>A. Edward Sutherland</td>\n      <td>5</td>\n    </tr>\n    <tr>\n      <th>1</th>\n      <td>A.R. Murugadoss</td>\n      <td>4</td>\n    </tr>\n    <tr>\n      <th>2</th>\n      <td>Abbas Alibhai Burmawalla, Mastan Alibhai Burma...</td>\n      <td>5</td>\n    </tr>\n    <tr>\n      <th>3</th>\n      <td>Abbas Kiarostami</td>\n      <td>18</td>\n    </tr>\n    <tr>\n      <th>4</th>\n      <td>Abdellatif Kechiche</td>\n      <td>5</td>\n    </tr>\n    <tr>\n      <th>...</th>\n      <td>...</td>\n      <td>...</td>\n    </tr>\n    <tr>\n      <th>1389</th>\n      <td>Zoltan Korda</td>\n      <td>7</td>\n    </tr>\n    <tr>\n      <th>1390</th>\n      <td>�agan Irmak</td>\n      <td>7</td>\n    </tr>\n    <tr>\n      <th>1391</th>\n      <td>�douard Molinaro</td>\n      <td>6</td>\n    </tr>\n    <tr>\n      <th>1392</th>\n      <td>�lex de la Iglesia</td>\n      <td>10</td>\n    </tr>\n    <tr>\n      <th>1393</th>\n      <td>�tienne Chatiliez</td>\n      <td>4</td>\n    </tr>\n  </tbody>\n</table>\n<p>1394 rows × 2 columns</p>\n</div>"
     },
     "execution_count": 7,
     "metadata": {},
     "output_type": "execute_result"
    }
   ],
   "source": [
    "que.query_5(3)"
   ],
   "metadata": {
    "collapsed": false,
    "pycharm": {
     "name": "#%%\n"
    }
   }
  },
  {
   "cell_type": "markdown",
   "source": [
    "## Query 6\n",
    "Choose your favorite actor and the relevant years"
   ],
   "metadata": {
    "collapsed": false,
    "pycharm": {
     "name": "#%% md\n"
    }
   }
  },
  {
   "cell_type": "code",
   "execution_count": 8,
   "outputs": [
    {
     "data": {
      "text/plain": "   Year  Movies Counter Average Rating per Year\n0  2010               2                       8\n1  2011               3       6.966666539510091\n2  2012               1       6.599999904632568\n3  2013               2       6.849999904632568\n4  2014               1       6.099999904632568",
      "text/html": "<div>\n<style scoped>\n    .dataframe tbody tr th:only-of-type {\n        vertical-align: middle;\n    }\n\n    .dataframe tbody tr th {\n        vertical-align: top;\n    }\n\n    .dataframe thead th {\n        text-align: right;\n    }\n</style>\n<table border=\"1\" class=\"dataframe\">\n  <thead>\n    <tr style=\"text-align: right;\">\n      <th></th>\n      <th>Year</th>\n      <th>Movies Counter</th>\n      <th>Average Rating per Year</th>\n    </tr>\n  </thead>\n  <tbody>\n    <tr>\n      <th>0</th>\n      <td>2010</td>\n      <td>2</td>\n      <td>8</td>\n    </tr>\n    <tr>\n      <th>1</th>\n      <td>2011</td>\n      <td>3</td>\n      <td>6.966666539510091</td>\n    </tr>\n    <tr>\n      <th>2</th>\n      <td>2012</td>\n      <td>1</td>\n      <td>6.599999904632568</td>\n    </tr>\n    <tr>\n      <th>3</th>\n      <td>2013</td>\n      <td>2</td>\n      <td>6.849999904632568</td>\n    </tr>\n    <tr>\n      <th>4</th>\n      <td>2014</td>\n      <td>1</td>\n      <td>6.099999904632568</td>\n    </tr>\n  </tbody>\n</table>\n</div>"
     },
     "execution_count": 8,
     "metadata": {},
     "output_type": "execute_result"
    }
   ],
   "source": [
    "que.query_6(actor=\"matt damon\", start_year= 2010, end_year= 2014)"
   ],
   "metadata": {
    "collapsed": false,
    "pycharm": {
     "name": "#%%\n"
    }
   }
  },
  {
   "cell_type": "markdown",
   "source": [
    "## Query 7\n",
    "Choose a year and your desired genre"
   ],
   "metadata": {
    "collapsed": false,
    "pycharm": {
     "name": "#%% md\n"
    }
   }
  },
  {
   "cell_type": "code",
   "execution_count": 9,
   "outputs": [
    {
     "data": {
      "text/plain": "    Year                        Director   Genre  Movies_Counter\n0   2009                     Joel Gallen  Comedy               2\n1   2009                   Larry Blamire  Comedy               2\n2   2009                   Marty Callner  Comedy               2\n3   2009                    Priyadarshan  Comedy               2\n4   2009                     Tyler Perry  Comedy               2\n5   2009                    William Dear  Comedy               2\n6   2010                      Gil Junger  Comedy               2\n7   2010                    John Moffitt  Comedy               2\n8   2010                 Shannon Hartman  Comedy               2\n9   2010                      Tim Kirkby  Comedy               2\n10  2011            Beth McCarthy-Miller  Comedy               2\n11  2011                    Dennis Dugan  Comedy               2\n12  2011                     J.B. Rogers  Comedy               2\n13  2011                 Jonathan Newman  Comedy               2\n14  2011                 Manny Rodriguez  Comedy               2\n15  2011                  Michael Damian  Comedy               2\n16  2011                   Michael Dowse  Comedy               2\n17  2011                Sarik Andreasyan  Comedy               2\n18  2011                     Tyler Perry  Comedy               2\n19  2012                       Dieudonn�  Comedy               2\n20  2012                    Ishai Setton  Comedy               2\n21  2012                     Jay Chapman  Comedy               2\n22  2012                       Jay Karas  Comedy               3\n23  2012                 Manny Rodriguez  Comedy               2\n24  2012                  Michael Feifer  Comedy               2\n25  2012                Roberto Santucci  Comedy               2\n26  2012                     Ryan Polito  Comedy               5\n27  2012                Scott L. Montoya  Comedy               4\n28  2012                     Tyler Perry  Comedy               2\n29  2013                    Greg Mottola  Comedy               2\n30  2013  Jason Friedberg, Aaron Seltzer  Comedy               2\n31  2013                     Jay Chapman  Comedy               5\n32  2013                     Lance Bangs  Comedy               2\n33  2013                    Marcus Raboy  Comedy               2\n34  2014                       Alex Zamm  Comedy               3\n35  2014               Dmitriy Dyachenko  Comedy               2\n36  2014                     Jay Chapman  Comedy               7\n37  2014                       Jay Karas  Comedy               3\n38  2014                     Lance Bangs  Comedy               2\n39  2014                      Ron Oliver  Comedy               2\n40  2014                     Ryan Polito  Comedy               3\n41  2014                       Spike Lee  Comedy               2\n42  2015                     Burak Aksak  Comedy               2\n43  2015                     Jay Chapman  Comedy               3\n44  2015                       Jay Karas  Comedy               2\n45  2015                      John Asher  Comedy               2\n46  2015                     Lance Bangs  Comedy               3\n47  2015                     Ryan Polito  Comedy               2\n48  2015                Scott L. Montoya  Comedy               2\n49  2015                 Steven Feinartz  Comedy               2\n50  2015                   Straw Weisman  Comedy               2\n51  2015                William Sullivan  Comedy               2\n52  2016                   Ricky Gervais  Comedy               2",
      "text/html": "<div>\n<style scoped>\n    .dataframe tbody tr th:only-of-type {\n        vertical-align: middle;\n    }\n\n    .dataframe tbody tr th {\n        vertical-align: top;\n    }\n\n    .dataframe thead th {\n        text-align: right;\n    }\n</style>\n<table border=\"1\" class=\"dataframe\">\n  <thead>\n    <tr style=\"text-align: right;\">\n      <th></th>\n      <th>Year</th>\n      <th>Director</th>\n      <th>Genre</th>\n      <th>Movies_Counter</th>\n    </tr>\n  </thead>\n  <tbody>\n    <tr>\n      <th>0</th>\n      <td>2009</td>\n      <td>Joel Gallen</td>\n      <td>Comedy</td>\n      <td>2</td>\n    </tr>\n    <tr>\n      <th>1</th>\n      <td>2009</td>\n      <td>Larry Blamire</td>\n      <td>Comedy</td>\n      <td>2</td>\n    </tr>\n    <tr>\n      <th>2</th>\n      <td>2009</td>\n      <td>Marty Callner</td>\n      <td>Comedy</td>\n      <td>2</td>\n    </tr>\n    <tr>\n      <th>3</th>\n      <td>2009</td>\n      <td>Priyadarshan</td>\n      <td>Comedy</td>\n      <td>2</td>\n    </tr>\n    <tr>\n      <th>4</th>\n      <td>2009</td>\n      <td>Tyler Perry</td>\n      <td>Comedy</td>\n      <td>2</td>\n    </tr>\n    <tr>\n      <th>5</th>\n      <td>2009</td>\n      <td>William Dear</td>\n      <td>Comedy</td>\n      <td>2</td>\n    </tr>\n    <tr>\n      <th>6</th>\n      <td>2010</td>\n      <td>Gil Junger</td>\n      <td>Comedy</td>\n      <td>2</td>\n    </tr>\n    <tr>\n      <th>7</th>\n      <td>2010</td>\n      <td>John Moffitt</td>\n      <td>Comedy</td>\n      <td>2</td>\n    </tr>\n    <tr>\n      <th>8</th>\n      <td>2010</td>\n      <td>Shannon Hartman</td>\n      <td>Comedy</td>\n      <td>2</td>\n    </tr>\n    <tr>\n      <th>9</th>\n      <td>2010</td>\n      <td>Tim Kirkby</td>\n      <td>Comedy</td>\n      <td>2</td>\n    </tr>\n    <tr>\n      <th>10</th>\n      <td>2011</td>\n      <td>Beth McCarthy-Miller</td>\n      <td>Comedy</td>\n      <td>2</td>\n    </tr>\n    <tr>\n      <th>11</th>\n      <td>2011</td>\n      <td>Dennis Dugan</td>\n      <td>Comedy</td>\n      <td>2</td>\n    </tr>\n    <tr>\n      <th>12</th>\n      <td>2011</td>\n      <td>J.B. Rogers</td>\n      <td>Comedy</td>\n      <td>2</td>\n    </tr>\n    <tr>\n      <th>13</th>\n      <td>2011</td>\n      <td>Jonathan Newman</td>\n      <td>Comedy</td>\n      <td>2</td>\n    </tr>\n    <tr>\n      <th>14</th>\n      <td>2011</td>\n      <td>Manny Rodriguez</td>\n      <td>Comedy</td>\n      <td>2</td>\n    </tr>\n    <tr>\n      <th>15</th>\n      <td>2011</td>\n      <td>Michael Damian</td>\n      <td>Comedy</td>\n      <td>2</td>\n    </tr>\n    <tr>\n      <th>16</th>\n      <td>2011</td>\n      <td>Michael Dowse</td>\n      <td>Comedy</td>\n      <td>2</td>\n    </tr>\n    <tr>\n      <th>17</th>\n      <td>2011</td>\n      <td>Sarik Andreasyan</td>\n      <td>Comedy</td>\n      <td>2</td>\n    </tr>\n    <tr>\n      <th>18</th>\n      <td>2011</td>\n      <td>Tyler Perry</td>\n      <td>Comedy</td>\n      <td>2</td>\n    </tr>\n    <tr>\n      <th>19</th>\n      <td>2012</td>\n      <td>Dieudonn�</td>\n      <td>Comedy</td>\n      <td>2</td>\n    </tr>\n    <tr>\n      <th>20</th>\n      <td>2012</td>\n      <td>Ishai Setton</td>\n      <td>Comedy</td>\n      <td>2</td>\n    </tr>\n    <tr>\n      <th>21</th>\n      <td>2012</td>\n      <td>Jay Chapman</td>\n      <td>Comedy</td>\n      <td>2</td>\n    </tr>\n    <tr>\n      <th>22</th>\n      <td>2012</td>\n      <td>Jay Karas</td>\n      <td>Comedy</td>\n      <td>3</td>\n    </tr>\n    <tr>\n      <th>23</th>\n      <td>2012</td>\n      <td>Manny Rodriguez</td>\n      <td>Comedy</td>\n      <td>2</td>\n    </tr>\n    <tr>\n      <th>24</th>\n      <td>2012</td>\n      <td>Michael Feifer</td>\n      <td>Comedy</td>\n      <td>2</td>\n    </tr>\n    <tr>\n      <th>25</th>\n      <td>2012</td>\n      <td>Roberto Santucci</td>\n      <td>Comedy</td>\n      <td>2</td>\n    </tr>\n    <tr>\n      <th>26</th>\n      <td>2012</td>\n      <td>Ryan Polito</td>\n      <td>Comedy</td>\n      <td>5</td>\n    </tr>\n    <tr>\n      <th>27</th>\n      <td>2012</td>\n      <td>Scott L. Montoya</td>\n      <td>Comedy</td>\n      <td>4</td>\n    </tr>\n    <tr>\n      <th>28</th>\n      <td>2012</td>\n      <td>Tyler Perry</td>\n      <td>Comedy</td>\n      <td>2</td>\n    </tr>\n    <tr>\n      <th>29</th>\n      <td>2013</td>\n      <td>Greg Mottola</td>\n      <td>Comedy</td>\n      <td>2</td>\n    </tr>\n    <tr>\n      <th>30</th>\n      <td>2013</td>\n      <td>Jason Friedberg, Aaron Seltzer</td>\n      <td>Comedy</td>\n      <td>2</td>\n    </tr>\n    <tr>\n      <th>31</th>\n      <td>2013</td>\n      <td>Jay Chapman</td>\n      <td>Comedy</td>\n      <td>5</td>\n    </tr>\n    <tr>\n      <th>32</th>\n      <td>2013</td>\n      <td>Lance Bangs</td>\n      <td>Comedy</td>\n      <td>2</td>\n    </tr>\n    <tr>\n      <th>33</th>\n      <td>2013</td>\n      <td>Marcus Raboy</td>\n      <td>Comedy</td>\n      <td>2</td>\n    </tr>\n    <tr>\n      <th>34</th>\n      <td>2014</td>\n      <td>Alex Zamm</td>\n      <td>Comedy</td>\n      <td>3</td>\n    </tr>\n    <tr>\n      <th>35</th>\n      <td>2014</td>\n      <td>Dmitriy Dyachenko</td>\n      <td>Comedy</td>\n      <td>2</td>\n    </tr>\n    <tr>\n      <th>36</th>\n      <td>2014</td>\n      <td>Jay Chapman</td>\n      <td>Comedy</td>\n      <td>7</td>\n    </tr>\n    <tr>\n      <th>37</th>\n      <td>2014</td>\n      <td>Jay Karas</td>\n      <td>Comedy</td>\n      <td>3</td>\n    </tr>\n    <tr>\n      <th>38</th>\n      <td>2014</td>\n      <td>Lance Bangs</td>\n      <td>Comedy</td>\n      <td>2</td>\n    </tr>\n    <tr>\n      <th>39</th>\n      <td>2014</td>\n      <td>Ron Oliver</td>\n      <td>Comedy</td>\n      <td>2</td>\n    </tr>\n    <tr>\n      <th>40</th>\n      <td>2014</td>\n      <td>Ryan Polito</td>\n      <td>Comedy</td>\n      <td>3</td>\n    </tr>\n    <tr>\n      <th>41</th>\n      <td>2014</td>\n      <td>Spike Lee</td>\n      <td>Comedy</td>\n      <td>2</td>\n    </tr>\n    <tr>\n      <th>42</th>\n      <td>2015</td>\n      <td>Burak Aksak</td>\n      <td>Comedy</td>\n      <td>2</td>\n    </tr>\n    <tr>\n      <th>43</th>\n      <td>2015</td>\n      <td>Jay Chapman</td>\n      <td>Comedy</td>\n      <td>3</td>\n    </tr>\n    <tr>\n      <th>44</th>\n      <td>2015</td>\n      <td>Jay Karas</td>\n      <td>Comedy</td>\n      <td>2</td>\n    </tr>\n    <tr>\n      <th>45</th>\n      <td>2015</td>\n      <td>John Asher</td>\n      <td>Comedy</td>\n      <td>2</td>\n    </tr>\n    <tr>\n      <th>46</th>\n      <td>2015</td>\n      <td>Lance Bangs</td>\n      <td>Comedy</td>\n      <td>3</td>\n    </tr>\n    <tr>\n      <th>47</th>\n      <td>2015</td>\n      <td>Ryan Polito</td>\n      <td>Comedy</td>\n      <td>2</td>\n    </tr>\n    <tr>\n      <th>48</th>\n      <td>2015</td>\n      <td>Scott L. Montoya</td>\n      <td>Comedy</td>\n      <td>2</td>\n    </tr>\n    <tr>\n      <th>49</th>\n      <td>2015</td>\n      <td>Steven Feinartz</td>\n      <td>Comedy</td>\n      <td>2</td>\n    </tr>\n    <tr>\n      <th>50</th>\n      <td>2015</td>\n      <td>Straw Weisman</td>\n      <td>Comedy</td>\n      <td>2</td>\n    </tr>\n    <tr>\n      <th>51</th>\n      <td>2015</td>\n      <td>William Sullivan</td>\n      <td>Comedy</td>\n      <td>2</td>\n    </tr>\n    <tr>\n      <th>52</th>\n      <td>2016</td>\n      <td>Ricky Gervais</td>\n      <td>Comedy</td>\n      <td>2</td>\n    </tr>\n  </tbody>\n</table>\n</div>"
     },
     "execution_count": 9,
     "metadata": {},
     "output_type": "execute_result"
    }
   ],
   "source": [
    "que.query_7(genre=\"Comedy\",year=2008)"
   ],
   "metadata": {
    "collapsed": false,
    "pycharm": {
     "name": "#%%\n"
    }
   }
  }
 ],
 "metadata": {
  "kernelspec": {
   "display_name": "Python 3",
   "language": "python",
   "name": "python3"
  },
  "language_info": {
   "codemirror_mode": {
    "name": "ipython",
    "version": 2
   },
   "file_extension": ".py",
   "mimetype": "text/x-python",
   "name": "python",
   "nbconvert_exporter": "python",
   "pygments_lexer": "ipython2",
   "version": "2.7.6"
  }
 },
 "nbformat": 4,
 "nbformat_minor": 0
}