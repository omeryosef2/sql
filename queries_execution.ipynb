{
 "cells": [
  {
   "cell_type": "code",
   "execution_count": 73,
   "metadata": {
    "collapsed": true,
    "pycharm": {
     "name": "#%%\n"
    }
   },
   "outputs": [],
   "source": [
    "import pandas as pd\n",
    "from queries_db_script import create_connection, query_1\n",
    "import mysql"
   ]
  },
  {
   "cell_type": "code",
   "execution_count": 74,
   "outputs": [
    {
     "ename": "TypeError",
     "evalue": "mysql.connector.pooling.connect() argument after ** must be a mapping, not CMySQLConnection",
     "output_type": "error",
     "traceback": [
      "\u001B[1;31m---------------------------------------------------------------------------\u001B[0m",
      "\u001B[1;31mTypeError\u001B[0m                                 Traceback (most recent call last)",
      "\u001B[1;32mC:\\Users\\GUYZAL~1\\AppData\\Local\\Temp/ipykernel_60804/360279739.py\u001B[0m in \u001B[0;36m<module>\u001B[1;34m\u001B[0m\n\u001B[1;32m----> 1\u001B[1;33m \u001B[0mcreate_connection\u001B[0m\u001B[1;33m(\u001B[0m\u001B[1;33m)\u001B[0m\u001B[1;33m\u001B[0m\u001B[1;33m\u001B[0m\u001B[0m\n\u001B[0m",
      "\u001B[1;32m~\\sql\\queries_db_script.py\u001B[0m in \u001B[0;36mcreate_connection\u001B[1;34m()\u001B[0m\n\u001B[0;32m     12\u001B[0m         \u001B[1;34m\"password\"\u001B[0m\u001B[1;33m:\u001B[0m \u001B[1;34m\"omery58087\"\u001B[0m\u001B[1;33m,\u001B[0m\u001B[1;33m\u001B[0m\u001B[1;33m\u001B[0m\u001B[0m\n\u001B[0;32m     13\u001B[0m         \u001B[1;34m\"port\"\u001B[0m\u001B[1;33m:\u001B[0m \u001B[1;36m3305\u001B[0m\u001B[1;33m\u001B[0m\u001B[1;33m\u001B[0m\u001B[0m\n\u001B[1;32m---> 14\u001B[1;33m     }\n\u001B[0m\u001B[0;32m     15\u001B[0m     \u001B[0mcnx\u001B[0m \u001B[1;33m=\u001B[0m \u001B[0mmysql\u001B[0m\u001B[1;33m.\u001B[0m\u001B[0mconnector\u001B[0m\u001B[1;33m.\u001B[0m\u001B[0mconnect\u001B[0m\u001B[1;33m(\u001B[0m\u001B[1;33m*\u001B[0m\u001B[0mconnection_params\u001B[0m\u001B[1;33m)\u001B[0m\u001B[1;33m\u001B[0m\u001B[1;33m\u001B[0m\u001B[0m\n\u001B[0;32m     16\u001B[0m     \u001B[1;32mreturn\u001B[0m \u001B[0mcnx\u001B[0m\u001B[1;33m\u001B[0m\u001B[1;33m\u001B[0m\u001B[0m\n",
      "\u001B[1;31mTypeError\u001B[0m: mysql.connector.pooling.connect() argument after ** must be a mapping, not CMySQLConnection"
     ]
    }
   ],
   "source": [
    "create_connection()"
   ],
   "metadata": {
    "collapsed": false,
    "pycharm": {
     "name": "#%%\n"
    }
   }
  },
  {
   "cell_type": "code",
   "execution_count": 52,
   "outputs": [],
   "source": [
    "def create_connection():\n",
    "    connection_params = {\n",
    "        \"host\": \"localhost\",\n",
    "        \"database\": \"omeryosef\",\n",
    "        \"user\": \"omeryosef\",\n",
    "        \"password\": \"omery58087\",\n",
    "        \"port\": 3305\n",
    "    }\n",
    "    print(type(connection_params))\n",
    "\n",
    "    cnx = mysql.connector.connect(**connection_params)\n",
    "    return cnx\n",
    "\n",
    "def query_1(genre = None): ##return movies by their genre\n",
    "    ##do we need an index on genre?\n",
    "    cnx = create_connection()\n",
    "    cursor = cnx.cursor()\n",
    "    if genre is None:\n",
    "        genre = input(\"Put here: \")  # This will prompt the user to input the genre\n",
    "    if len(genre) == 0:\n",
    "        genre = \"Comedy\"\n",
    "        print(\"You didn't choose your genre, so I will go with Comedy :)\")\n",
    "    query = f\"\"\"\n",
    "    SELECT og.imdbID AS movieID\n",
    "           ,og.genre\n",
    "           ,ot.title\n",
    "    FROM omeryosef.genres og\n",
    "    INNER JOIN omeryosef.title ot ON ot.imdbId = og.imdbID\n",
    "    WHERE MATCH(og.genre) AGAINST('{genre}' IN BOOLEAN MODE)\n",
    "    \"\"\"\n",
    "    cursor.execute(query)\n",
    "\n",
    "    # Fetch the results\n",
    "    results = cursor.fetchall()\n",
    "\n",
    "    # Close the cursor and connection\n",
    "    cursor.close()\n",
    "    cnx.close()\n",
    "\n",
    "    # Return or process the results as needed\n",
    "    return pd.DataFrame(results)"
   ],
   "metadata": {
    "collapsed": false,
    "pycharm": {
     "name": "#%%\n"
    }
   }
  },
  {
   "cell_type": "code",
   "execution_count": 53,
   "outputs": [
    {
     "name": "stdout",
     "output_type": "stream",
     "text": [
      "<class 'dict'>\n"
     ]
    },
    {
     "data": {
      "text/plain": "             0                         1  \\\n0            3  Animation, Comedy, Short   \n1           14             Comedy, Short   \n2          131             Short, Comedy   \n3          138             Short, Comedy   \n4          313             Short, Comedy   \n...        ...                       ...   \n13641  4973270                    Comedy   \n13642  4974684                    Comedy   \n13643  4981636                    Comedy   \n13644  4993964                    Comedy   \n13645  5023260                    Comedy   \n\n                                               2  \n0                                 Pauvre Pierrot  \n1                  Tables Turned on the Gardener  \n2                               A Terrible Night  \n3                              The Bewitched Inn  \n4                             Let Me Dream Again  \n...                                          ...  \n13641                      Motor City Motormouth  \n13642                                  Kara Bela  \n13643  Middle School: The Worst Years of My Life  \n13644                                     A Fond  \n13645                              The Last Word  \n\n[13646 rows x 3 columns]",
      "text/html": "<div>\n<style scoped>\n    .dataframe tbody tr th:only-of-type {\n        vertical-align: middle;\n    }\n\n    .dataframe tbody tr th {\n        vertical-align: top;\n    }\n\n    .dataframe thead th {\n        text-align: right;\n    }\n</style>\n<table border=\"1\" class=\"dataframe\">\n  <thead>\n    <tr style=\"text-align: right;\">\n      <th></th>\n      <th>0</th>\n      <th>1</th>\n      <th>2</th>\n    </tr>\n  </thead>\n  <tbody>\n    <tr>\n      <th>0</th>\n      <td>3</td>\n      <td>Animation, Comedy, Short</td>\n      <td>Pauvre Pierrot</td>\n    </tr>\n    <tr>\n      <th>1</th>\n      <td>14</td>\n      <td>Comedy, Short</td>\n      <td>Tables Turned on the Gardener</td>\n    </tr>\n    <tr>\n      <th>2</th>\n      <td>131</td>\n      <td>Short, Comedy</td>\n      <td>A Terrible Night</td>\n    </tr>\n    <tr>\n      <th>3</th>\n      <td>138</td>\n      <td>Short, Comedy</td>\n      <td>The Bewitched Inn</td>\n    </tr>\n    <tr>\n      <th>4</th>\n      <td>313</td>\n      <td>Short, Comedy</td>\n      <td>Let Me Dream Again</td>\n    </tr>\n    <tr>\n      <th>...</th>\n      <td>...</td>\n      <td>...</td>\n      <td>...</td>\n    </tr>\n    <tr>\n      <th>13641</th>\n      <td>4973270</td>\n      <td>Comedy</td>\n      <td>Motor City Motormouth</td>\n    </tr>\n    <tr>\n      <th>13642</th>\n      <td>4974684</td>\n      <td>Comedy</td>\n      <td>Kara Bela</td>\n    </tr>\n    <tr>\n      <th>13643</th>\n      <td>4981636</td>\n      <td>Comedy</td>\n      <td>Middle School: The Worst Years of My Life</td>\n    </tr>\n    <tr>\n      <th>13644</th>\n      <td>4993964</td>\n      <td>Comedy</td>\n      <td>A Fond</td>\n    </tr>\n    <tr>\n      <th>13645</th>\n      <td>5023260</td>\n      <td>Comedy</td>\n      <td>The Last Word</td>\n    </tr>\n  </tbody>\n</table>\n<p>13646 rows × 3 columns</p>\n</div>"
     },
     "execution_count": 53,
     "metadata": {},
     "output_type": "execute_result"
    }
   ],
   "source": [
    "query_1(\"Comedy\")"
   ],
   "metadata": {
    "collapsed": false,
    "pycharm": {
     "name": "#%%\n"
    }
   }
  },
  {
   "cell_type": "code",
   "execution_count": 70,
   "outputs": [
    {
     "ename": "TypeError",
     "evalue": "mysql.connector.pooling.connect() argument after ** must be a mapping, not CMySQLConnection",
     "output_type": "error",
     "traceback": [
      "\u001B[1;31m---------------------------------------------------------------------------\u001B[0m",
      "\u001B[1;31mTypeError\u001B[0m                                 Traceback (most recent call last)",
      "\u001B[1;32mC:\\Users\\GUYZAL~1\\AppData\\Local\\Temp/ipykernel_60804/1794638343.py\u001B[0m in \u001B[0;36m<module>\u001B[1;34m\u001B[0m\n\u001B[0;32m      4\u001B[0m \u001B[1;33m\u001B[0m\u001B[0m\n\u001B[0;32m      5\u001B[0m \u001B[1;31m##You can use the head() method to see all the columns\u001B[0m\u001B[1;33m\u001B[0m\u001B[1;33m\u001B[0m\u001B[0m\n\u001B[1;32m----> 6\u001B[1;33m \u001B[0mprint\u001B[0m\u001B[1;33m(\u001B[0m\u001B[0mque\u001B[0m\u001B[1;33m.\u001B[0m\u001B[0mquery_1\u001B[0m\u001B[1;33m(\u001B[0m\u001B[1;34m\"Drama\"\u001B[0m\u001B[1;33m)\u001B[0m\u001B[1;33m)\u001B[0m\u001B[1;33m\u001B[0m\u001B[1;33m\u001B[0m\u001B[0m\n\u001B[0m\u001B[0;32m      7\u001B[0m \u001B[1;33m\u001B[0m\u001B[0m\n\u001B[0;32m      8\u001B[0m \u001B[0mprint\u001B[0m\u001B[1;33m(\u001B[0m\u001B[0mque\u001B[0m\u001B[1;33m.\u001B[0m\u001B[0mquery_2\u001B[0m\u001B[1;33m(\u001B[0m\u001B[1;36m1995\u001B[0m\u001B[1;33m,\u001B[0m\u001B[1;36m2005\u001B[0m\u001B[1;33m)\u001B[0m\u001B[1;33m)\u001B[0m\u001B[1;33m\u001B[0m\u001B[1;33m\u001B[0m\u001B[0m\n",
      "\u001B[1;32m~\\sql\\queries_db_script.py\u001B[0m in \u001B[0;36mquery_1\u001B[1;34m(genre)\u001B[0m\n\u001B[0;32m     17\u001B[0m \u001B[1;33m\u001B[0m\u001B[0m\n\u001B[0;32m     18\u001B[0m \u001B[1;33m\u001B[0m\u001B[0m\n\u001B[1;32m---> 19\u001B[1;33m \u001B[1;33m\u001B[0m\u001B[0m\n\u001B[0m\u001B[0;32m     20\u001B[0m \u001B[1;32mdef\u001B[0m \u001B[0mquery_1\u001B[0m\u001B[1;33m(\u001B[0m\u001B[0mgenre\u001B[0m \u001B[1;33m=\u001B[0m \u001B[1;32mNone\u001B[0m\u001B[1;33m)\u001B[0m\u001B[1;33m:\u001B[0m \u001B[1;31m##return movies by their genre\u001B[0m\u001B[1;33m\u001B[0m\u001B[1;33m\u001B[0m\u001B[0m\n\u001B[0;32m     21\u001B[0m     \u001B[1;31m##do we need an index on genre?\u001B[0m\u001B[1;33m\u001B[0m\u001B[1;33m\u001B[0m\u001B[0m\n",
      "\u001B[1;32m~\\sql\\queries_db_script.py\u001B[0m in \u001B[0;36mcreate_connection\u001B[1;34m()\u001B[0m\n\u001B[0;32m     12\u001B[0m         \u001B[1;34m\"password\"\u001B[0m\u001B[1;33m:\u001B[0m \u001B[1;34m\"omery58087\"\u001B[0m\u001B[1;33m,\u001B[0m\u001B[1;33m\u001B[0m\u001B[1;33m\u001B[0m\u001B[0m\n\u001B[0;32m     13\u001B[0m         \u001B[1;34m\"port\"\u001B[0m\u001B[1;33m:\u001B[0m \u001B[1;36m3305\u001B[0m\u001B[1;33m\u001B[0m\u001B[1;33m\u001B[0m\u001B[0m\n\u001B[1;32m---> 14\u001B[1;33m     }\n\u001B[0m\u001B[0;32m     15\u001B[0m     \u001B[0mcnx\u001B[0m \u001B[1;33m=\u001B[0m \u001B[0mmysql\u001B[0m\u001B[1;33m.\u001B[0m\u001B[0mconnector\u001B[0m\u001B[1;33m.\u001B[0m\u001B[0mconnect\u001B[0m\u001B[1;33m(\u001B[0m\u001B[1;33m**\u001B[0m\u001B[0mconnection_params\u001B[0m\u001B[1;33m)\u001B[0m\u001B[1;33m\u001B[0m\u001B[1;33m\u001B[0m\u001B[0m\n\u001B[0;32m     16\u001B[0m     \u001B[1;32mreturn\u001B[0m \u001B[0mcnx\u001B[0m\u001B[1;33m\u001B[0m\u001B[1;33m\u001B[0m\u001B[0m\n",
      "\u001B[1;31mTypeError\u001B[0m: mysql.connector.pooling.connect() argument after ** must be a mapping, not CMySQLConnection"
     ]
    }
   ],
   "source": [
    "import pandas as pd\n",
    "import queries_db_script as que\n",
    "import mysql\n",
    "\n",
    "##You can use the head() method to see all the columns\n",
    "print(que.query_1(\"Drama\"))\n",
    "\n",
    "print(que.query_2(1995,2005))"
   ],
   "metadata": {
    "collapsed": false,
    "pycharm": {
     "name": "#%%\n"
    }
   }
  }
 ],
 "metadata": {
  "kernelspec": {
   "display_name": "Python 3",
   "language": "python",
   "name": "python3"
  },
  "language_info": {
   "codemirror_mode": {
    "name": "ipython",
    "version": 2
   },
   "file_extension": ".py",
   "mimetype": "text/x-python",
   "name": "python",
   "nbconvert_exporter": "python",
   "pygments_lexer": "ipython2",
   "version": "2.7.6"
  }
 },
 "nbformat": 4,
 "nbformat_minor": 0
}